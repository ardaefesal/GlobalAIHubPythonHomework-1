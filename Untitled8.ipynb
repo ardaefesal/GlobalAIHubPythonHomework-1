{
 "cells": [
  {
   "cell_type": "code",
   "execution_count": 1,
   "metadata": {},
   "outputs": [
    {
     "name": "stdout",
     "output_type": "stream",
     "text": [
      "Adınızı Yazınız:taner\n",
      "Hoşgeldin taner!  10 kerre tahmin hakkınız var.  Hadi oynamaya başlayalım\n",
      "Bir harf yazınız (Eğer tahmin ettiyseniz kelimeyi yazınız): p\n",
      "p\n",
      "*\n",
      "*\n",
      "*\n",
      "*\n",
      "*\n",
      "Bir harf yazınız (Eğer tahmin ettiyseniz kelimeyi yazınız): y\n",
      "p\n",
      "y\n",
      "*\n",
      "*\n",
      "*\n",
      "*\n",
      "Bir harf yazınız (Eğer tahmin ettiyseniz kelimeyi yazınız): t\n",
      "p\n",
      "y\n",
      "t\n",
      "*\n",
      "*\n",
      "*\n",
      "Bir harf yazınız (Eğer tahmin ettiyseniz kelimeyi yazınız): h\n",
      "p\n",
      "y\n",
      "t\n",
      "h\n",
      "*\n",
      "*\n",
      "Bir harf yazınız (Eğer tahmin ettiyseniz kelimeyi yazınız): o\n",
      "p\n",
      "y\n",
      "t\n",
      "h\n",
      "o\n",
      "*\n",
      "Bir harf yazınız (Eğer tahmin ettiyseniz kelimeyi yazınız): n\n",
      "p\n",
      "y\n",
      "t\n",
      "h\n",
      "o\n",
      "n\n",
      "Bir harf yazınız (Eğer tahmin ettiyseniz kelimeyi yazınız): python\n",
      "Tebrikler Kazandınız!!!\n"
     ]
    }
   ],
   "source": [
    "import time\n",
    "guesses = []\n",
    "count = 0\n",
    "ans = 'python'\n",
    "\n",
    "ad = input(\"Adınızı Yazınız:\")\n",
    "print(\"Hoşgeldin {}!\" .format (ad) + \" \" + \" \" + \"10 kerre tahmin hakkınız var.\" \"  \" + \"Hadi oynamaya başlayalım\")\n",
    "time.sleep(3)\n",
    "while count < 10:\n",
    "    guess = input(\"Bir harf yazınız (Eğer tahmin ettiyseniz kelimeyi yazınız): \")\n",
    "    guesses.append(guess)\n",
    "    if ''.join(guess) == ans:\n",
    "        print('Tebrikler Kazandınız!!!')\n",
    "        break\n",
    "\n",
    "    else:\n",
    "        for char in ans:\n",
    "            if char in guesses:\n",
    "                guesses.append(char)\n",
    "                print(char)\n",
    "            else:\n",
    "                print('*')\n",
    "        count += 1\n",
    "else:\n",
    "    print('\\nKaybettiniz :((((')"
   ]
  }
 ],
 "metadata": {
  "kernelspec": {
   "display_name": "Python 3",
   "language": "python",
   "name": "python3"
  },
  "language_info": {
   "codemirror_mode": {
    "name": "ipython",
    "version": 3
   },
   "file_extension": ".py",
   "mimetype": "text/x-python",
   "name": "python",
   "nbconvert_exporter": "python",
   "pygments_lexer": "ipython3",
   "version": "3.9.1"
  }
 },
 "nbformat": 4,
 "nbformat_minor": 4
}

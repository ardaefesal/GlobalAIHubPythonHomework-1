{
 "cells": [
  {
   "cell_type": "code",
   "execution_count": 7,
   "metadata": {},
   "outputs": [
    {
     "name": "stdout",
     "output_type": "stream",
     "text": [
      "İsminiz:Taner\n",
      "Soyadınız:ERDOĞAN\n",
      "Yaşınız:49\n",
      "Doğum Tarihi (yıl):1971\n",
      "['Taner', 'ERDOĞAN', 49, 1971]\n",
      "Dışarı çıkabilirsin\n"
     ]
    }
   ],
   "source": [
    "#İkinci Ödev 22 12 2020\n",
    "userfname = input(\"İsminiz:\")\n",
    "userlastname = input(\"Soyadınız:\")\n",
    "userage = int(input(\"Yaşınız:\"))\n",
    "userdob = int(input(\"Doğum Tarihi (yıl):\"))\n",
    "\n",
    "\n",
    "mylist = [userfname, userlastname, userage, userdob]\n",
    "print(mylist)\n",
    "for i in mylist:\n",
    "    if userage <= 18:\n",
    "        print(\"Dışarı çıkamazsın çok tehlikeli\")\n",
    "        break\n",
    "    else:\n",
    "        print(\"Dışarı çıkabilirsin\")\n",
    "        break\n",
    "        "
   ]
  },
  {
   "cell_type": "code",
   "execution_count": null,
   "metadata": {},
   "outputs": [],
   "source": []
  }
 ],
 "metadata": {
  "kernelspec": {
   "display_name": "Python 3",
   "language": "python",
   "name": "python3"
  },
  "language_info": {
   "codemirror_mode": {
    "name": "ipython",
    "version": 3
   },
   "file_extension": ".py",
   "mimetype": "text/x-python",
   "name": "python",
   "nbconvert_exporter": "python",
   "pygments_lexer": "ipython3",
   "version": "3.9.1"
  }
 },
 "nbformat": 4,
 "nbformat_minor": 4
}

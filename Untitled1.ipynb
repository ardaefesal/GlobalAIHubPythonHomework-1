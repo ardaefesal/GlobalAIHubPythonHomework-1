{
 "cells": [
  {
   "cell_type": "code",
   "execution_count": 1,
   "metadata": {},
   "outputs": [
    {
     "name": "stdout",
     "output_type": "stream",
     "text": [
      "Adı:Taner Soyadı:Erdoğan  Yaşı:49  Boyu:1.85cm  Kiloso:90kg\n",
      "Adı:Taner Soyadı:Erdoğan  Yaşı:49  Boyu:1.85cm  Kilosu:90kg\n",
      "Adı:<class 'str'>\n",
      "Soyadı:<class 'str'>\n",
      "Yaşı:<class 'int'>\n",
      "Boyu:<class 'float'>\n",
      "Kilosu:<class 'int'>\n"
     ]
    }
   ],
   "source": [
    "#İlk Ödev 21 12 2020\n",
    "userad = \"Taner\"\n",
    "usersoyad = \"Erdoğan\"\n",
    "useryas = 49\n",
    "userboy = 1.85\n",
    "userkilo = 90\n",
    "print(\"Adı:{} Soyadı:{}  Yaşı:{}  Boyu:{}cm  Kiloso:{}kg\".format(userad, usersoyad, useryas, userboy, userkilo))\n",
    "print(f'Adı:{userad} Soyadı:{usersoyad}  Yaşı:{useryas}  Boyu:{userboy}cm  Kilosu:{userkilo}kg')\n",
    "\n",
    "ad = type(userad)\n",
    "soyad = type(usersoyad)\n",
    "yas = type(useryas)\n",
    "boy = type(userboy)\n",
    "kilo = type(userkilo)\n",
    "\n",
    "print(f'Adı:{ad}')\n",
    "print(f'Soyadı:{soyad}')\n",
    "print(f'Yaşı:{yas}')\n",
    "print(f'Boyu:{boy}')\n",
    "print(f'Kilosu:{kilo}')\n"
   ]
  },
  {
   "cell_type": "code",
   "execution_count": null,
   "metadata": {},
   "outputs": [],
   "source": []
  }
 ],
 "metadata": {
  "kernelspec": {
   "display_name": "Python 3",
   "language": "python",
   "name": "python3"
  },
  "language_info": {
   "codemirror_mode": {
    "name": "ipython",
    "version": 3
   },
   "file_extension": ".py",
   "mimetype": "text/x-python",
   "name": "python",
   "nbconvert_exporter": "python",
   "pygments_lexer": "ipython3",
   "version": "3.9.1"
  }
 },
 "nbformat": 4,
 "nbformat_minor": 4
}

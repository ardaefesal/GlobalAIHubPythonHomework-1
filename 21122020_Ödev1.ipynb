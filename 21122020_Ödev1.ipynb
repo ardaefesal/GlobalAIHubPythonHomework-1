{
 "cells": [
  {
   "cell_type": "code",
   "execution_count": 2,
   "metadata": {},
   "outputs": [
    {
     "name": "stdout",
     "output_type": "stream",
     "text": [
      "Adı:Taner Soyadı:Erdoğan  Yaşı:49  Boyu:1.85cm  Kiloso:90kg\n",
      "Adı:Taner Soyadı:Erdoğan  Yaşı:49  Boyu:1.85cm  Kilosu:90kg\n",
      "<class 'str'>\n",
      "<class 'str'>\n",
      "<class 'int'>\n",
      "<class 'float'>\n",
      "<class 'int'>\n"
     ]
    }
   ],
   "source": [
    "#İlk Ödev 21 12 2020\n",
    "userad = \"Taner\"\n",
    "usersoyad = \"Erdoğan\"\n",
    "useryas = 49\n",
    "userboy = 1.85\n",
    "userkilo = 90\n",
    "print(\"Adı:{} Soyadı:{}  Yaşı:{}  Boyu:{}cm  Kiloso:{}kg\".format(userad, usersoyad, useryas, userboy, userkilo))\n",
    "print(f'Adı:{userad} Soyadı:{usersoyad}  Yaşı:{useryas}  Boyu:{userboy}cm  Kilosu:{userkilo}kg')\n",
    "\n",
    "print(type(userad))\n",
    "print(type(usersoyad))\n",
    "print(type(useryas))\n",
    "print(type(userboy))\n",
    "print(type(userkilo))"
   ]
  }
 ],
 "metadata": {
  "kernelspec": {
   "display_name": "Python 3",
   "language": "python",
   "name": "python3"
  },
  "language_info": {
   "codemirror_mode": {
    "name": "ipython",
    "version": 3
   },
   "file_extension": ".py",
   "mimetype": "text/x-python",
   "name": "python",
   "nbconvert_exporter": "python",
   "pygments_lexer": "ipython3",
   "version": "3.9.1"
  }
 },
 "nbformat": 4,
 "nbformat_minor": 4
}

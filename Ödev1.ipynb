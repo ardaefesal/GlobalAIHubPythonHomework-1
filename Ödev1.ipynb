{
 "cells": [
  {
   "cell_type": "code",
   "execution_count": 2,
   "metadata": {},
   "outputs": [
    {
     "name": "stdout",
     "output_type": "stream",
     "text": [
      "İsminiz nedir? Taner\n",
      "Soyadınız nedir? Erdoğan\n",
      "Yaşınız kaç?49\n",
      "Boyunuz kaç (m)? 1.83\n",
      "Kilonuz kaç (kg)? 89\n",
      "Adı:Taner Soyadı:Erdoğan  Yaşı:49  Boyu:1.83cm  Kiloso:89kg\n",
      "Adı:<class 'str'>\n",
      "Soyadı:<class 'str'>\n",
      "Yaşı:<class 'int'>\n",
      "Boyu:<class 'float'>\n",
      "Kilosu:<class 'int'>\n"
     ]
    }
   ],
   "source": [
    "#İlk Ödev 21 12 2020\n",
    "userad = input(\"İsminiz nedir? \")\n",
    "usersoyad = input(\"Soyadınız nedir? \")\n",
    "useryas = int(input(\"Yaşınız kaç?\"))\n",
    "userboy = float(input(\"Boyunuz kaç (m)? \"))\n",
    "userkilo = int(input(\"Kilonuz kaç (kg)? \")) ;\\\n",
    "\n",
    "\n",
    "print(\"Adı:{} Soyadı:{}  Yaşı:{}  Boyu:{}cm  Kiloso:{}kg\".format(userad, usersoyad, int(useryas), userboy, userkilo))\n",
    "\n",
    "ad = type(userad)\n",
    "soyad = type(usersoyad)\n",
    "yas = type(useryas)\n",
    "boy = type(userboy)\n",
    "kilo = type(userkilo)\n",
    "\n",
    "print(f'Adı:{ad}')\n",
    "print(f'Soyadı:{soyad}')\n",
    "print(f'Yaşı:{yas}')\n",
    "print(f'Boyu:{boy}')\n",
    "print(f'Kilosu:{kilo}')"
   ]
  },
  {
   "cell_type": "code",
   "execution_count": null,
   "metadata": {},
   "outputs": [],
   "source": []
  }
 ],
 "metadata": {
  "kernelspec": {
   "display_name": "Python 3",
   "language": "python",
   "name": "python3"
  },
  "language_info": {
   "codemirror_mode": {
    "name": "ipython",
    "version": 3
   },
   "file_extension": ".py",
   "mimetype": "text/x-python",
   "name": "python",
   "nbconvert_exporter": "python",
   "pygments_lexer": "ipython3",
   "version": "3.9.1"
  }
 },
 "nbformat": 4,
 "nbformat_minor": 4
}
